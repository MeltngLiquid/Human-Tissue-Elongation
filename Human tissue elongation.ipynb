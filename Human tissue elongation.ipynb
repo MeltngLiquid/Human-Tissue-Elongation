{
  "cells": [
    {
      "cell_type": "code",
      "execution_count": null,
      "id": "8c5710fc-7157-4ef2-8a72-bc4faa85d851",
      "metadata": {
        "id": "8c5710fc-7157-4ef2-8a72-bc4faa85d851"
      },
      "outputs": [],
      "source": [
        "import tensorflow as tf\n",
        "from tensorflow import keras\n",
        "from tensorflow.keras import layers\n",
        "import numpy as np\n",
        "import matplotlib.pyplot as plt\n",
        "import os\n",
        "import pandas as pd\n",
        "from tensorflow.keras.preprocessing.image import load_img, img_to_array,ImageDataGenerator\n",
        "import json\n",
        "from tensorflow.keras.models import Sequential\n",
        "from tensorflow.keras.layers import Conv2D, MaxPooling2D, Flatten, Dense,Dropout\n",
        "from sklearn.model_selection import train_test_split\n",
        "import math"
      ]
    },
    {
      "cell_type": "code",
      "execution_count": null,
      "id": "9b37faa7-5c24-44f2-9fd6-abe45bbb48c2",
      "metadata": {
        "id": "9b37faa7-5c24-44f2-9fd6-abe45bbb48c2"
      },
      "outputs": [],
      "source": [
        "num_samples=800\n",
        "image_size = (100, 100)\n",
        "dataset='datasetfortwotwod'\n",
        "labels_path = os.path.join(dataset, 'labels.csv')\n",
        "labels_df = pd.read_csv(labels_path)\n",
        "\n",
        "def load_and_preprocess_image(image_path,target_size=(100,100)):\n",
        "    img = load_img(image_path,target_size=target_size, color_mode='rgb')\n",
        "    img_array = img_to_array(img) / 100.0  # Normalize pixel values\n",
        "    return img_array\n",
        "\n",
        "\n",
        "images = []\n",
        "points=[]\n",
        "for index, row in labels_df.iterrows():\n",
        "    image_name = row['image_Name']\n",
        "    p1x = row['Point1_X']\n",
        "    p1y = row['Point1_Y']\n",
        "    p2x = row['Point2_X']\n",
        "    p2y = row['Point2_Y']\n",
        "    image_path = os.path.join(dataset, image_name)\n",
        "    from tensorflow.keras.preprocessing.image import ImageDataGenerator\n",
        "\n",
        "# Define data augmentation parameters\n",
        "    datagen = ImageDataGenerator(\n",
        "              rotation_range=40,  # Randomly rotate images by up to 40 degrees\n",
        "              width_shift_range=0.2,  # Randomly shift images horizontally by up to 20%\n",
        "              height_shift_range=0.2,  # Randomly shift images vertically by up to 20%\n",
        "              shear_range=0.2,  # Randomly apply shearing transformation\n",
        "              zoom_range=0.2,  # Randomly zoom in or out\n",
        "              horizontal_flip=True  # Randomly flip images horizontally\n",
        ")\n",
        "\n",
        "# Apply data augmentation to your training images\n",
        "    train_datagen = datagen.flow_from_directory(\n",
        "              \"datasetfortwo\",  # Replace with your directory path\n",
        "                target_size=(100, 100),  # Resize images to a specific size\n",
        "             batch_size=32,\n",
        "              class_mode=\"categorical\"  # Adjust class_mode based on your task\n",
        "            )\n",
        "    image = load_and_preprocess_image(image_path)\n",
        "    images.append(image)\n",
        "    points.append([p1x,p1y,p2x,p2y])\n",
        "\n",
        "points=np.array(points)/100\n",
        "images=np.array(images)\n",
        "images"
      ]
    },
    {
      "cell_type": "code",
      "execution_count": null,
      "id": "d8ff7e89-fcd4-4787-a1bc-3f9dea73663e",
      "metadata": {
        "id": "d8ff7e89-fcd4-4787-a1bc-3f9dea73663e"
      },
      "outputs": [],
      "source": [
        "train_images, test_images, train_points, test_points = train_test_split(images, points, test_size=0.1, random_state=452)\n"
      ]
    },
    {
      "cell_type": "code",
      "execution_count": null,
      "id": "7866d0c4-2ca0-4eb1-93a3-2e09bfdbe8cb",
      "metadata": {
        "id": "7866d0c4-2ca0-4eb1-93a3-2e09bfdbe8cb"
      },
      "outputs": [],
      "source": [
        "model = Sequential([\n",
        "    Conv2D(filters=64,kernel_size= (3, 3), activation='relu', padding='same',input_shape=(100, 100, 3)),\n",
        "    MaxPooling2D((2, 2)),\n",
        "    Dropout(0.1),\n",
        "    Conv2D(128, (2, 2),  padding='same',activation='relu'),\n",
        "    MaxPooling2D((1, 1)),\n",
        "    Dropout(0.1),\n",
        "    Conv2D(128, (2, 2), padding='same', activation='relu'),\n",
        "    MaxPooling2D((1, 1)),\n",
        "    Flatten(),\n",
        "    Dense(256, activation='relu'),\n",
        "    Dense(4)\n",
        "])\n",
        "\n",
        "early_stopping=tf.keras.callbacks.EarlyStopping(monitor='val_loss',\n",
        "                                 patience=10,\n",
        "                                 restore_best_weights=True)\n",
        "reduce_learning=tf.keras.callbacks.ReduceLROnPlateau( monitor='val_loss',\n",
        "                                     factor=0.2,\n",
        "                                     verbose=0,\n",
        "                                     patience=5,\n",
        "                                     min_lr=0.000001,\n",
        ")\n",
        "callback = tf.keras.callbacks.ModelCheckpoint(\n",
        "    'HI.keras',\n",
        "    monitor='val_loss',\n",
        "    save_best_only=True,\n",
        "    mode='min'\n",
        "    )\n",
        "model.compile(optimizer='adam',metrics=['accuracy'],loss='mean_absolute_error')\n",
        "model.fit(train_images,train_points,epochs=50,validation_split=0.2,callbacks=[early_stopping, reduce_learning, callback])"
      ]
    },
    {
      "cell_type": "code",
      "execution_count": null,
      "id": "02e62577-afd9-4122-92dd-1c6fa538bace",
      "metadata": {
        "id": "02e62577-afd9-4122-92dd-1c6fa538bace",
        "outputId": "9da88111-d526-4090-b348-42392b81ae87"
      },
      "outputs": [
        {
          "name": "stderr",
          "output_type": "stream",
          "text": [
            "Clipping input data to the valid range for imshow with RGB data ([0..1] for floats or [0..255] for integers).\n"
          ]
        },
        {
          "name": "stdout",
          "output_type": "stream",
          "text": [
            "point 1 : [86, 50] point 2 : [79, 74]\n",
            "distance between them : 25.0\n"
          ]
        },
        {
          "data": {
            "image/png": "[encoded data removed]",
            "text/plain": [
              "<Figure size 640x480 with 1 Axes>"
            ]
          },
          "metadata": {},
          "output_type": "display_data"
        }
      ],
      "source": [
        "x=18\n",
        "plt.imshow(test_images[x])\n",
        "tes=np.squeeze(test_points[x])\n",
        "p1=[round(tes[0]*100),round(tes[1]*100)]\n",
        "p2=[round(tes[2]*100),round(tes[3]*100)]\n",
        "print(f\"point 1 : {p1} point 2 : {p2}\")\n",
        "print(\"distance between them :\",math.dist(p1,p2))"
      ]
    },
    {
      "cell_type": "code",
      "execution_count": null,
      "id": "5925a484-c5a1-4f46-8caf-cf70b28604c9",
      "metadata": {
        "id": "5925a484-c5a1-4f46-8caf-cf70b28604c9",
        "outputId": "d1a6a7e7-7d1e-4afa-d0eb-ca89a56a7151"
      },
      "outputs": [
        {
          "name": "stdout",
          "output_type": "stream",
          "text": [
            "\u001b[1m1/1\u001b[0m \u001b[32m━━━━━━━━━━━━━━━━━━━━\u001b[0m\u001b[37m\u001b[0m \u001b[1m0s\u001b[0m 33ms/step\n",
            "point1 : [82, 51] , point2 : [77, 74]\n",
            "distance between them : 23.53720459187964\n"
          ]
        }
      ],
      "source": [
        "result=np.array(model.predict(np.expand_dims(test_images[x], axis=0)))\n",
        "res=np.squeeze(result)\n",
        "point1=[round(res[0]*100),round(res[1]*100)]\n",
        "point2=[round(res[2]*100),round(res[3]*100)]\n",
        "print(f\"point1 : {point1} , point2 : {point2}\")\n",
        "print(\"distance between them :\",math.dist(point1,point2))\n"
      ]
    },
    {
      "cell_type": "code",
      "execution_count": null,
      "id": "fba1ef0f-1f74-47c7-a89b-712ac94ba111",
      "metadata": {
        "id": "fba1ef0f-1f74-47c7-a89b-712ac94ba111"
      },
      "outputs": [],
      "source": []
    },
    {
      "cell_type": "code",
      "execution_count": null,
      "id": "9bf5847a-9745-44e0-8441-eb11af245932",
      "metadata": {
        "id": "9bf5847a-9745-44e0-8441-eb11af245932"
      },
      "outputs": [],
      "source": []
    },
    {
      "cell_type": "code",
      "execution_count": null,
      "id": "615d4763-a02a-4c84-8b06-c3d0760e2d19",
      "metadata": {
        "id": "615d4763-a02a-4c84-8b06-c3d0760e2d19"
      },
      "outputs": [],
      "source": [
        "diffdata='dataforlollololoa'\n",
        "coordinates_path=os.path.join(diffdata , 'coordinates.csv')\n",
        "coordinates_read=pd.read_csv(coordinates_path)\n",
        "\n",
        "def load_and_preprocess_image(image_path,target_size=(100,100)):\n",
        "    img = load_img(image_path,target_size=target_size, color_mode='rgb')\n",
        "    img_array = img_to_array(img) / 100.0  # Normalize pixel values\n",
        "    return img_array\n",
        "\n",
        "dimages = []\n",
        "dpoints=[]\n",
        "for index, row in coordinates_read.iterrows():\n",
        "    dimage_name = row['image_name']\n",
        "    dp1x = row['x1']\n",
        "    dp1y = row['y1']\n",
        "    dp2x = row['x2']\n",
        "    dp2y = row['y2']\n",
        "    dimage_path = os.path.join(diffdata, dimage_name)\n",
        "    dimage = load_and_preprocess_image(dimage_path)\n",
        "    dimages.append(dimage)\n",
        "    dpoints.append([dp1x,dp1y,dp2x,dp2y])\n",
        "\n",
        "dpoints=np.array(dpoints)/100\n",
        "dimages=np.array(dimages)"
      ]
    },
    {
      "cell_type": "code",
      "execution_count": null,
      "id": "dfb68bfe-0d49-49a0-986f-3027a75350af",
      "metadata": {
        "id": "dfb68bfe-0d49-49a0-986f-3027a75350af"
      },
      "outputs": [],
      "source": [
        "#y only even numbers\n",
        "y=0"
      ]
    },
    {
      "cell_type": "code",
      "execution_count": null,
      "id": "76bb4377-a825-4957-bc0e-43dfc878081c",
      "metadata": {
        "id": "76bb4377-a825-4957-bc0e-43dfc878081c"
      },
      "outputs": [],
      "source": [
        "def cal(y,dpoints):\n",
        " dres=np.squeeze(dpoints[y])\n",
        " point1=[round(dres[0]*100),round(dres[1]*100)]\n",
        " point2=[round(dres[2]*100),round(dres[3]*100)]\n",
        " print(f\"point1 : {point1} , point2 : {point2}\")\n",
        " dist=math.dist(point1,point2)\n",
        " return dist"
      ]
    },
    {
      "cell_type": "code",
      "execution_count": null,
      "id": "ba50b7f4-6b51-4aaa-ad1c-fe2f50b58850",
      "metadata": {
        "id": "ba50b7f4-6b51-4aaa-ad1c-fe2f50b58850",
        "outputId": "5b070013-1f8d-43bd-bb39-2d501f97a4e2"
      },
      "outputs": [
        {
          "name": "stdout",
          "output_type": "stream",
          "text": [
            "point1 : [25, 20] , point2 : [70, 69]\n",
            "distance between points of image 1 : 66.52818951391959\n"
          ]
        }
      ],
      "source": [
        "dist1=cal(y,dpoints)\n",
        "print(\"distance between points of image 1 :\",dist1)#calculating the distance between the points using the above function"
      ]
    },
    {
      "cell_type": "code",
      "execution_count": null,
      "id": "d1b782ad-7e70-421f-8571-0fbfd92baa69",
      "metadata": {
        "id": "d1b782ad-7e70-421f-8571-0fbfd92baa69",
        "outputId": "2f78cd91-ee74-4eb8-cb66-413cc68bf651"
      },
      "outputs": [
        {
          "name": "stdout",
          "output_type": "stream",
          "text": [
            "point1 : [20, 19] , point2 : [75, 70]\n",
            "distance between points of image 1 : 75.0066663703967\n"
          ]
        }
      ],
      "source": [
        "dist2=cal(y+1,dpoints)\n",
        "print(\"distance between points of image 1 :\",dist2)"
      ]
    },
    {
      "cell_type": "code",
      "execution_count": null,
      "id": "a4fdbb88-f5a2-4b15-a82f-3f63482f1216",
      "metadata": {
        "id": "a4fdbb88-f5a2-4b15-a82f-3f63482f1216",
        "outputId": "07c87da3-0598-4acb-90e5-3b2e66a1dbbd"
      },
      "outputs": [
        {
          "name": "stdout",
          "output_type": "stream",
          "text": [
            "difference in distance is 8.478476856477116\n"
          ]
        }
      ],
      "source": [
        "print(\"difference in distance is\", abs(dist1-dist2))"
      ]
    },
    {
      "cell_type": "code",
      "execution_count": null,
      "id": "61fbceb3-bf39-47b6-a5d4-b8bafe18d8e7",
      "metadata": {
        "id": "61fbceb3-bf39-47b6-a5d4-b8bafe18d8e7",
        "outputId": "4d0ede1f-0be1-46b7-9724-44c400a2c678"
      },
      "outputs": [
        {
          "name": "stdout",
          "output_type": "stream",
          "text": [
            "\u001b[1m1/1\u001b[0m \u001b[32m━━━━━━━━━━━━━━━━━━━━\u001b[0m\u001b[37m\u001b[0m \u001b[1m0s\u001b[0m 38ms/step\n",
            "PREDICTED POINTS\n",
            "point1 : [30, 22] , point2 : [70, 67]\n",
            "predicted distance between points of image 1: 60.207972893961475\n"
          ]
        }
      ],
      "source": [
        "#calculating thepredicted distance b/w the points in the first image\n",
        "dresult=model.predict(np.expand_dims(dimages[y], axis=0))\n",
        "res=np.squeeze(dresult)\n",
        "point1=[round(res[0]*100),round(res[1]*100)]\n",
        "point2=[round(res[2]*100),round(res[3]*100)]\n",
        "print(\"PREDICTED POINTS\")\n",
        "print(f\"point1 : {point1} , point2 : {point2}\")\n",
        "dist1=math.dist(point1,point2)\n",
        "print(\"predicted distance between points of image 1:\",dist1)"
      ]
    },
    {
      "cell_type": "code",
      "execution_count": null,
      "id": "9b50b8eb-217a-416b-a748-9e375a1c588e",
      "metadata": {
        "id": "9b50b8eb-217a-416b-a748-9e375a1c588e",
        "outputId": "b0612f7e-361d-4e8c-c668-6c2eae273009"
      },
      "outputs": [
        {
          "name": "stdout",
          "output_type": "stream",
          "text": [
            "\u001b[1m1/1\u001b[0m \u001b[32m━━━━━━━━━━━━━━━━━━━━\u001b[0m\u001b[37m\u001b[0m \u001b[1m0s\u001b[0m 37ms/step\n",
            "PREDICTED POINTS\n",
            "point1 : [26, 21] , point2 : [74, 65]\n",
            "predicted distance between points if image 2: 65.11528238439882\n"
          ]
        }
      ],
      "source": [
        "#calculating the predicted distance b/w the points in the second image\n",
        "result=model.predict(np.expand_dims(dimages[y+1], axis=0))\n",
        "res=np.squeeze(result)\n",
        "point1=[round(res[0]*100),round(res[1]*100)]\n",
        "point2=[round(res[2]*100),round(res[3]*100)]\n",
        "print(\"PREDICTED POINTS\")\n",
        "print(f\"point1 : {point1} , point2 : {point2}\")\n",
        "dist2=math.dist(point1,point2)\n",
        "print(\"predicted distance between points if image 2:\",dist2)"
      ]
    },
    {
      "cell_type": "code",
      "execution_count": null,
      "id": "96fa5c33-562a-4ad6-927d-6e600c603981",
      "metadata": {
        "id": "96fa5c33-562a-4ad6-927d-6e600c603981",
        "outputId": "fda1926a-1b8c-4e1f-dd24-838b2e645518"
      },
      "outputs": [
        {
          "name": "stdout",
          "output_type": "stream",
          "text": [
            "predicted difference in distance is 4.907309490437349\n"
          ]
        }
      ],
      "source": [
        "print(\"predicted difference in distance is\", abs(dist1-dist2))"
      ]
    },
    {
      "cell_type": "code",
      "execution_count": null,
      "id": "2009b3b6-2763-4e2a-be8a-400a9bac8467",
      "metadata": {
        "id": "2009b3b6-2763-4e2a-be8a-400a9bac8467",
        "outputId": "aabee7a3-672f-429c-a941-0f854176dcaa"
      },
      "outputs": [
        {
          "name": "stderr",
          "output_type": "stream",
          "text": [
            "Clipping input data to the valid range for imshow with RGB data ([0..1] for floats or [0..255] for integers).\n"
          ]
        },
        {
          "data": {
            "text/plain": [
              "<matplotlib.image.AxesImage at 0x25ff3f81c90>"
            ]
          },
          "execution_count": 115,
          "metadata": {},
          "output_type": "execute_result"
        },
        {
          "data": {
            "image/png": "[encoded data removed]",
            "text/plain": [
              "<Figure size 640x480 with 1 Axes>"
            ]
          },
          "metadata": {},
          "output_type": "display_data"
        }
      ],
      "source": [
        "plt.imshow(dimages[y])"
      ]
    },
    {
      "cell_type": "code",
      "execution_count": null,
      "id": "1ef4a876-423b-4c31-9c8b-ae34c4a08f69",
      "metadata": {
        "id": "1ef4a876-423b-4c31-9c8b-ae34c4a08f69",
        "outputId": "db0a8458-2f99-4628-e98c-8acd25018571"
      },
      "outputs": [
        {
          "name": "stderr",
          "output_type": "stream",
          "text": [
            "Clipping input data to the valid range for imshow with RGB data ([0..1] for floats or [0..255] for integers).\n"
          ]
        },
        {
          "data": {
            "text/plain": [
              "<matplotlib.image.AxesImage at 0x25ff3fdbdd0>"
            ]
          },
          "execution_count": 116,
          "metadata": {},
          "output_type": "execute_result"
        },
        {
          "data": {
            "image/png": "[encoded data removed]",
            "text/plain": [
              "<Figure size 640x480 with 1 Axes>"
            ]
          },
          "metadata": {},
          "output_type": "display_data"
        }
      ],
      "source": [
        "plt.imshow(dimages[y+1])"
      ]
    },
    {
      "cell_type": "code",
      "execution_count": null,
      "id": "5b82095e-1f70-4810-9d94-7a4778c26e1d",
      "metadata": {
        "id": "5b82095e-1f70-4810-9d94-7a4778c26e1d"
      },
      "outputs": [],
      "source": []
    },
    {
      "cell_type": "code",
      "execution_count": null,
      "id": "64b13cb8-104f-4bc8-a56e-09942e3f82d2",
      "metadata": {
        "id": "64b13cb8-104f-4bc8-a56e-09942e3f82d2"
      },
      "outputs": [],
      "source": []
    },
    {
      "cell_type": "code",
      "execution_count": null,
      "id": "ea2a8fc5-88f2-4fbf-a11d-249e6aa0a97b",
      "metadata": {
        "id": "ea2a8fc5-88f2-4fbf-a11d-249e6aa0a97b"
      },
      "outputs": [],
      "source": []
    },
    {
      "cell_type": "code",
      "execution_count": null,
      "id": "0a2d8326-e14e-47e1-acb7-2b2cb6181eab",
      "metadata": {
        "id": "0a2d8326-e14e-47e1-acb7-2b2cb6181eab"
      },
      "outputs": [],
      "source": []
    },
    {
      "cell_type": "code",
      "execution_count": null,
      "id": "2bbb7247-dae8-4f69-8d42-73f9efc236a0",
      "metadata": {
        "id": "2bbb7247-dae8-4f69-8d42-73f9efc236a0"
      },
      "outputs": [],
      "source": []
    },
    {
      "cell_type": "code",
      "execution_count": null,
      "id": "6fe28c47-818d-4e43-9c56-c46edcfc6971",
      "metadata": {
        "id": "6fe28c47-818d-4e43-9c56-c46edcfc6971"
      },
      "outputs": [],
      "source": []
    },
    {
      "cell_type": "code",
      "execution_count": null,
      "id": "7020b648-9a9c-4c24-b8d4-009552fed9e0",
      "metadata": {
        "id": "7020b648-9a9c-4c24-b8d4-009552fed9e0"
      },
      "outputs": [],
      "source": []
    },
    {
      "cell_type": "code",
      "execution_count": null,
      "id": "2072356f-8b11-4b7c-99c8-acc9533ea968",
      "metadata": {
        "id": "2072356f-8b11-4b7c-99c8-acc9533ea968"
      },
      "outputs": [],
      "source": []
    },
    {
      "cell_type": "code",
      "execution_count": null,
      "id": "96563c0e-9855-4224-b416-c611a200b1c6",
      "metadata": {
        "id": "96563c0e-9855-4224-b416-c611a200b1c6"
      },
      "outputs": [],
      "source": []
    },
    {
      "cell_type": "code",
      "execution_count": null,
      "id": "c3cc69e7-1e28-418c-b346-768a899b78fb",
      "metadata": {
        "id": "c3cc69e7-1e28-418c-b346-768a899b78fb"
      },
      "outputs": [],
      "source": []
    },
    {
      "cell_type": "code",
      "execution_count": null,
      "id": "261098bb-d38c-4ed3-9849-a173ebfcbd3c",
      "metadata": {
        "id": "261098bb-d38c-4ed3-9849-a173ebfcbd3c"
      },
      "outputs": [],
      "source": []
    },
    {
      "cell_type": "code",
      "execution_count": null,
      "id": "0b14fdce-150e-481c-bf0c-8972c861d11a",
      "metadata": {
        "id": "0b14fdce-150e-481c-bf0c-8972c861d11a"
      },
      "outputs": [],
      "source": []
    },
    {
      "cell_type": "code",
      "execution_count": null,
      "id": "253daefa-2afe-4709-af42-2eacb7d1fa83",
      "metadata": {
        "id": "253daefa-2afe-4709-af42-2eacb7d1fa83"
      },
      "outputs": [],
      "source": []
    },
    {
      "cell_type": "code",
      "execution_count": null,
      "id": "91378367-4577-41b9-932f-66dbf4fce6ea",
      "metadata": {
        "id": "91378367-4577-41b9-932f-66dbf4fce6ea"
      },
      "outputs": [],
      "source": []
    },
    {
      "cell_type": "code",
      "execution_count": null,
      "id": "a97952fc-542d-4041-9689-ae21bdd5d278",
      "metadata": {
        "id": "a97952fc-542d-4041-9689-ae21bdd5d278"
      },
      "outputs": [],
      "source": []
    },
    {
      "cell_type": "code",
      "execution_count": null,
      "id": "c8c02508-50e1-4e38-81ab-8ac96e8905e3",
      "metadata": {
        "id": "c8c02508-50e1-4e38-81ab-8ac96e8905e3"
      },
      "outputs": [],
      "source": []
    },
    {
      "cell_type": "code",
      "execution_count": null,
      "id": "8bc39dda-2a23-4789-96f0-4af354e6dc31",
      "metadata": {
        "id": "8bc39dda-2a23-4789-96f0-4af354e6dc31"
      },
      "outputs": [],
      "source": []
    },
    {
      "cell_type": "code",
      "execution_count": null,
      "id": "2da1b862-bd7a-48e5-b382-0f99010e27eb",
      "metadata": {
        "id": "2da1b862-bd7a-48e5-b382-0f99010e27eb"
      },
      "outputs": [],
      "source": []
    },
    {
      "cell_type": "code",
      "execution_count": null,
      "id": "19841e6e-4350-4a85-9a51-79d3763460cf",
      "metadata": {
        "id": "19841e6e-4350-4a85-9a51-79d3763460cf"
      },
      "outputs": [],
      "source": []
    }
  ],
  "metadata": {
    "kernelspec": {
      "display_name": "Python 3 (ipykernel)",
      "language": "python",
      "name": "python3"
    },
    "language_info": {
      "codemirror_mode": {
        "name": "ipython",
        "version": 3
      },
      "file_extension": ".py",
      "mimetype": "text/x-python",
      "name": "python",
      "nbconvert_exporter": "python",
      "pygments_lexer": "ipython3",
      "version": "3.11.7"
    },
    "colab": {
      "provenance": []
    }
  },
  "nbformat": 4,
  "nbformat_minor": 5
}